{
  "nbformat": 4,
  "nbformat_minor": 0,
  "metadata": {
    "colab": {
      "provenance": []
    },
    "kernelspec": {
      "name": "python3",
      "display_name": "Python 3"
    },
    "language_info": {
      "name": "python"
    }
  },
  "cells": [
    {
      "cell_type": "code",
      "source": [
        "#ejemplo 1"
      ],
      "metadata": {
        "id": "7eyyrnOjXNLz"
      },
      "execution_count": null,
      "outputs": []
    },
    {
      "cell_type": "code",
      "source": [
        "from pyspark.sql import SparkSession\n",
        "import os"
      ],
      "metadata": {
        "id": "1AijohTBR84o"
      },
      "execution_count": 28,
      "outputs": []
    },
    {
      "cell_type": "code",
      "source": [
        "# Crear una sesión de Spark\n",
        "spark = SparkSession.builder \\\n",
        "    .appName(\"EjemploRDD.jim\") \\\n",
        "    .getOrCreate()"
      ],
      "metadata": {
        "id": "j_GwQb1AR8_Q"
      },
      "execution_count": 41,
      "outputs": []
    },
    {
      "cell_type": "code",
      "source": [
        "#GLOM PERMITE VER LAS PARTICIONES QUE SE HACER\n",
        "#COLLECT LOS IMPRIME\n",
        "sc.parallelize([1, 2, 3, 4,5,6], 4).glom().collect()"
      ],
      "metadata": {
        "colab": {
          "base_uri": "https://localhost:8080/"
        },
        "id": "SKy1aKM4dJk9",
        "outputId": "a7da5489-4dd3-4b9f-e9d6-e7cf41ecf77e"
      },
      "execution_count": 80,
      "outputs": [
        {
          "output_type": "execute_result",
          "data": {
            "text/plain": [
              "[[1], [2, 3], [4], [5, 6]]"
            ]
          },
          "metadata": {},
          "execution_count": 80
        }
      ]
    },
    {
      "cell_type": "code",
      "source": [
        "#COALESE VUELVE A LAS PARTICIONES QUE DESEEMOS\n",
        "sc.parallelize([1, 2, 3, 4,5,6], 4).coalesce(2).glom().collect()"
      ],
      "metadata": {
        "colab": {
          "base_uri": "https://localhost:8080/"
        },
        "id": "9fWYrh4_d7tt",
        "outputId": "357876f0-24d1-47f7-b90e-7e1661fed8ec"
      },
      "execution_count": 83,
      "outputs": [
        {
          "output_type": "execute_result",
          "data": {
            "text/plain": [
              "[[1, 2, 3], [4, 5, 6]]"
            ]
          },
          "metadata": {},
          "execution_count": 83
        }
      ]
    }
  ]
}