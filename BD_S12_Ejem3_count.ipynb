{
  "cells": [
    {
      "cell_type": "code",
      "execution_count": null,
      "metadata": {
        "id": "D0-dbSF2acZ3"
      },
      "outputs": [],
      "source": [
        "from pyspark.context import SparkContext"
      ]
    },
    {
      "cell_type": "code",
      "execution_count": null,
      "metadata": {
        "id": "2Gme3v0jbLqP"
      },
      "outputs": [],
      "source": [
        "sc = SparkContext('local', 'test')"
      ]
    },
    {
      "cell_type": "markdown",
      "metadata": {
        "id": "XC5qO_u2bu1X"
      },
      "source": [
        "Ejemplo usando .count en un contexto relacionado con calificaciones de estudiantes y conteo de calificaciones"
      ]
    },
    {
      "cell_type": "code",
      "execution_count": null,
      "metadata": {
        "id": "bXT3APazb4pm"
      },
      "outputs": [],
      "source": [
        "# Crear un RDD con las calificaciones de los estudiantes\n",
        "calificaciones = sc.parallelize([20, 18, 19, 15, 14])"
      ]
    },
    {
      "cell_type": "code",
      "execution_count": null,
      "metadata": {
        "colab": {
          "background_save": true
        },
        "id": "zaKiUoXUb_4u",
        "outputId": "dde4c31f-1d86-442b-a245-10b10a6a14f6"
      },
      "outputs": [
        {
          "name": "stdout",
          "output_type": "stream",
          "text": [
            "Número total de calificaciones: 5\n"
          ]
        }
      ],
      "source": []
    }
  ],
  "metadata": {
    "colab": {
      "provenance": []
    },
    "kernelspec": {
      "display_name": "Python 3",
      "name": "python3"
    },
    "language_info": {
      "name": "python"
    }
  },
  "nbformat": 4,
  "nbformat_minor": 0
}