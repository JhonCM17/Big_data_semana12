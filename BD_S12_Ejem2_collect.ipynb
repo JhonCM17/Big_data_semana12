{
  "nbformat": 4,
  "nbformat_minor": 0,
  "metadata": {
    "colab": {
      "provenance": []
    },
    "kernelspec": {
      "name": "python3",
      "display_name": "Python 3"
    },
    "language_info": {
      "name": "python"
    }
  },
  "cells": [
    {
      "cell_type": "code",
      "source": [
        "from pyspark.context import SparkContext"
      ],
      "metadata": {
        "id": "37Am4f8JVrJY"
      },
      "execution_count": null,
      "outputs": []
    },
    {
      "cell_type": "code",
      "source": [
        "sc = SparkContext('local', 'test')"
      ],
      "metadata": {
        "id": "l7v4R4q9YjNf"
      },
      "execution_count": null,
      "outputs": []
    },
    {
      "cell_type": "markdown",
      "source": [
        "Ejemplo utilizando .collect en un contexto relacionado con una lista de productos y sus precios"
      ],
      "metadata": {
        "id": "BYNQnAR1Yqzg"
      }
    },
    {
      "cell_type": "code",
      "source": [
        "# Crear un RDD con un rango de precios\n",
        "precios = sc.range(5).collect()\n",
        "print(\"Precios generados (0 a 4):\", precios)"
      ],
      "metadata": {
        "colab": {
          "base_uri": "https://localhost:8080/"
        },
        "id": "gVtzInTmY1u_",
        "outputId": "b1ff4ab6-3438-4c4c-9b67-4f12cdb95487"
      },
      "execution_count": null,
      "outputs": [
        {
          "output_type": "stream",
          "name": "stdout",
          "text": [
            "Precios generados (0 a 4): [0, 1, 2, 3, 4]\n"
          ]
        }
      ]
    },
    {
      "cell_type": "code",
      "source": [
        "# Crear un RDD con una lista de productos\n",
        "productos = sc.parallelize([\"manzana\", \"plátano\", \"cereza\"]).collect()\n",
        "print(\"Lista de productos:\", productos)"
      ],
      "metadata": {
        "colab": {
          "base_uri": "https://localhost:8080/"
        },
        "id": "M-iVAcQ3Y_V3",
        "outputId": "3c4d7cea-8d84-4fab-9335-36748a95ac67"
      },
      "execution_count": null,
      "outputs": [
        {
          "output_type": "stream",
          "name": "stdout",
          "text": [
            "Lista de productos: ['manzana', 'plátano', 'cereza']\n"
          ]
        }
      ]
    },
    {
      "cell_type": "markdown",
      "source": [
        "Primer RDD: Usamos sc.range(5) para generar un RDD con los números del 0 al 4, que en este contexto representarán precios ficticios de productos.\n",
        "\n",
        "Segundo RDD: Usamos sc.parallelize para crear un RDD con una lista de nombres de productos, que luego se recopila y se imprime."
      ],
      "metadata": {
        "id": "p8QIvRmpZEIH"
      }
    }
  ]
}