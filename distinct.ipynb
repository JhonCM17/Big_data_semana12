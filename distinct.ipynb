{
  "nbformat": 4,
  "nbformat_minor": 0,
  "metadata": {
    "colab": {
      "provenance": []
    },
    "kernelspec": {
      "name": "python3",
      "display_name": "Python 3"
    },
    "language_info": {
      "name": "python"
    }
  },
  "cells": [
    {
      "cell_type": "code",
      "execution_count": null,
      "metadata": {
        "id": "QrUCi3w4MQsZ"
      },
      "outputs": [],
      "source": [
        "from pyspark.context import SparkContext"
      ]
    },
    {
      "cell_type": "code",
      "source": [
        "sc = SparkContext('local', 'test')"
      ],
      "metadata": {
        "id": "oXvMmbXcMje_"
      },
      "execution_count": null,
      "outputs": []
    },
    {
      "cell_type": "code",
      "source": [
        "#(distinct) En este caso si hizo una lista de personas que asistiran a un evento, debido a un error se duplicaron los nombres de algunas personas, por esa razón se usara el metodo   de distinct()"
      ],
      "metadata": {
        "id": "UDh-MShuTcio"
      },
      "execution_count": null,
      "outputs": []
    },
    {
      "cell_type": "code",
      "source": [
        "#La lista de los nombres de las personas que asistiran al evento\n",
        "nombres=[\"lucia\", \"Francisco\", \"Jim\", \"Cesar\", \"Jhon\", \"Jhoe\",\"Jose\", \"lucia\",\"Francisco\",\"Jim\", \"Rebeca\",\"Jenni\",\"Rebeca\",\"sofia\"]"
      ],
      "metadata": {
        "id": "rdOChvgPU5Ma"
      },
      "execution_count": null,
      "outputs": []
    },
    {
      "cell_type": "code",
      "source": [
        "#se crea un RDD a partir de la lista\n",
        "rdd_nombres = sc.parallelize(nombres)"
      ],
      "metadata": {
        "id": "BuF4qgEUVyi5"
      },
      "execution_count": null,
      "outputs": []
    },
    {
      "cell_type": "code",
      "source": [
        "#usamos el distinct para hacer la separacion de los nombres duplicados\n",
        "nombres_unicos = rdd_nombres.distinct()"
      ],
      "metadata": {
        "id": "1fs2taKRV804"
      },
      "execution_count": null,
      "outputs": []
    },
    {
      "cell_type": "code",
      "source": [
        "#MOSTRAMOS LA LISTA DE LOS NOMBRES\n",
        "nombres_unicos.collect()"
      ],
      "metadata": {
        "colab": {
          "base_uri": "https://localhost:8080/"
        },
        "id": "cTBYy_b5WGAh",
        "outputId": "4d3cbae8-5da9-4289-f5ed-787cc8f97e5c"
      },
      "execution_count": null,
      "outputs": [
        {
          "output_type": "execute_result",
          "data": {
            "text/plain": [
              "['lucia',\n",
              " 'Francisco',\n",
              " 'Jim',\n",
              " 'Cesar',\n",
              " 'Jhon',\n",
              " 'Jhoe',\n",
              " 'Jose',\n",
              " 'Rebeca',\n",
              " 'Jenni',\n",
              " 'sofia']"
            ]
          },
          "metadata": {},
          "execution_count": 19
        }
      ]
    }
  ]
}