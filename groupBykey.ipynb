{
  "nbformat": 4,
  "nbformat_minor": 0,
  "metadata": {
    "colab": {
      "provenance": []
    },
    "kernelspec": {
      "name": "python3",
      "display_name": "Python 3"
    },
    "language_info": {
      "name": "python"
    }
  },
  "cells": [
    {
      "cell_type": "code",
      "execution_count": 1,
      "metadata": {
        "id": "0QQW21y4bfLc"
      },
      "outputs": [],
      "source": [
        "from pyspark.context import SparkContext"
      ]
    },
    {
      "cell_type": "code",
      "source": [
        "sc = SparkContext('local', 'test')"
      ],
      "metadata": {
        "id": "dmsNGgQ7cUaQ"
      },
      "execution_count": 2,
      "outputs": []
    },
    {
      "cell_type": "code",
      "source": [
        "#(groupbykey) En este caso tenemos una lista de estudiantes, cada estudiante tiene su califición, lo que se desea hacer con el groupbykey es separar por la categoria a los estudiantes y asi saber\n",
        "# que estudiantes aprobaron y que estudiantes desaprobaron"
      ],
      "metadata": {
        "id": "es-8CyOecVZv"
      },
      "execution_count": null,
      "outputs": []
    },
    {
      "cell_type": "code",
      "source": [
        "# la lista de calificaciones (estudiante, calificación)\n",
        "calificaciones = [\n",
        "    (\"Ana\", 85),\n",
        "    (\"Luis\", 90),\n",
        "    (\"Carlos\", 55),\n",
        "    (\"María\", 72),\n",
        "    (\"José\", 48),\n",
        "    (\"Sofía\", 82)\n",
        "]"
      ],
      "metadata": {
        "id": "07z1Gq-4cXX3"
      },
      "execution_count": 3,
      "outputs": []
    },
    {
      "cell_type": "code",
      "source": [
        "#  se crear un RDD a partir de la lista de calificaciones\n",
        "rdd_calificaciones = sc.parallelize(calificaciones)"
      ],
      "metadata": {
        "id": "HKqcOns-cY2O"
      },
      "execution_count": 4,
      "outputs": []
    },
    {
      "cell_type": "code",
      "source": [
        " #cambiar la estructura a (resultado, estudiante) para usar groupByKey\n",
        "rdd_resultado = rdd_calificaciones.map(lambda x: (\"Aprobado\" if x[1] >= 60 else \"Desaprobado\", x[0]))"
      ],
      "metadata": {
        "id": "_HJhqeeBcao_"
      },
      "execution_count": 5,
      "outputs": []
    },
    {
      "cell_type": "code",
      "source": [
        "# usar el groupByKey para agrupar por resultado\n",
        "resultado = rdd_resultado.groupByKey().mapValues(list)"
      ],
      "metadata": {
        "id": "Ex7oOS92ccw-"
      },
      "execution_count": 6,
      "outputs": []
    },
    {
      "cell_type": "code",
      "source": [
        "# mostrar los resultados\n",
        "for categoria, nombres in resultado.collect():\n",
        "    print(f\"{categoria}: {list(nombres)}\")"
      ],
      "metadata": {
        "colab": {
          "base_uri": "https://localhost:8080/"
        },
        "id": "UK3BHw7Rcefe",
        "outputId": "1923b522-8142-4962-a5d7-acda0bfaa08d"
      },
      "execution_count": 7,
      "outputs": [
        {
          "output_type": "stream",
          "name": "stdout",
          "text": [
            "Aprobado: ['Ana', 'Luis', 'María', 'Sofía']\n",
            "Desaprobado: ['Carlos', 'José']\n"
          ]
        }
      ]
    }
  ]
}