{
  "nbformat": 4,
  "nbformat_minor": 0,
  "metadata": {
    "colab": {
      "provenance": []
    },
    "kernelspec": {
      "name": "python3",
      "display_name": "Python 3"
    },
    "language_info": {
      "name": "python"
    }
  },
  "cells": [
    {
      "cell_type": "code",
      "execution_count": 1,
      "metadata": {
        "id": "zCgS7R73dGoJ"
      },
      "outputs": [],
      "source": [
        "from pyspark.context import SparkContext"
      ]
    },
    {
      "cell_type": "code",
      "source": [
        "sc = SparkContext('local', 'test')"
      ],
      "metadata": {
        "id": "erLb0kMSdKTJ"
      },
      "execution_count": 2,
      "outputs": []
    },
    {
      "cell_type": "code",
      "source": [
        "#(reducebykey) se quiere saber el registro de venta de los empleados, en este caso se mostrara una lista donde se tiene el nombre del empleado junto con cuanto a vendido y con el reducebykey se\n",
        "# se sumara el total de venta de cada uno y se mostrará"
      ],
      "metadata": {
        "id": "mQLSYmYPeey4"
      },
      "execution_count": null,
      "outputs": []
    },
    {
      "cell_type": "code",
      "source": [
        "# la lista de venta (vendedor, monto)\n",
        "Registro=[\n",
        "    (\"Ana\", 200),\n",
        "    (\"Luis\", 150),\n",
        "    (\"Carlos\", 300),\n",
        "    (\"Ana\", 100),\n",
        "    (\"Luis\", 250),\n",
        "    (\"María\", 400),\n",
        "    (\"Carlos\", 50)\n",
        "]"
      ],
      "metadata": {
        "id": "YOjyKe6Oe4Dg"
      },
      "execution_count": 4,
      "outputs": []
    },
    {
      "cell_type": "code",
      "source": [
        "# se crea un RDD a partir de la lista  de ventas\n",
        "rdd_ventas = sc.parallelize(Registro)"
      ],
      "metadata": {
        "id": "R0eUCywEfBLY"
      },
      "execution_count": 5,
      "outputs": []
    },
    {
      "cell_type": "code",
      "source": [
        "# Aquí cada vendedor se mantiene con su monto de venta\n",
        "resultado = rdd_ventas.reduceByKey(lambda a, b: a + b)"
      ],
      "metadata": {
        "id": "nau_SEWnfTKI"
      },
      "execution_count": 6,
      "outputs": []
    },
    {
      "cell_type": "code",
      "source": [
        "#se mostrara el resultado\n",
        "for vendedor, total in resultado.collect():\n",
        "    print(f\"{vendedor}: {total}\")"
      ],
      "metadata": {
        "colab": {
          "base_uri": "https://localhost:8080/"
        },
        "id": "mF_J4murfakn",
        "outputId": "b1a6bd64-1902-4190-8edd-b38d39f18a54"
      },
      "execution_count": 8,
      "outputs": [
        {
          "output_type": "stream",
          "name": "stdout",
          "text": [
            "Ana: 300\n",
            "Luis: 400\n",
            "Carlos: 350\n",
            "María: 400\n"
          ]
        }
      ]
    },
    {
      "cell_type": "code",
      "source": [],
      "metadata": {
        "id": "X5288bcQfcc_"
      },
      "execution_count": null,
      "outputs": []
    }
  ]
}