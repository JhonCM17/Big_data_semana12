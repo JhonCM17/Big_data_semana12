{
  "nbformat": 4,
  "nbformat_minor": 0,
  "metadata": {
    "colab": {
      "provenance": []
    },
    "kernelspec": {
      "name": "python3",
      "display_name": "Python 3"
    },
    "language_info": {
      "name": "python"
    }
  },
  "cells": [
    {
      "cell_type": "code",
      "execution_count": 1,
      "metadata": {
        "id": "UO_5QUxnf-j6"
      },
      "outputs": [],
      "source": [
        "from pyspark.context import SparkContext"
      ]
    },
    {
      "cell_type": "code",
      "source": [
        "sc = SparkContext('local', 'test')"
      ],
      "metadata": {
        "id": "NxS92WfAgFmw"
      },
      "execution_count": 2,
      "outputs": []
    },
    {
      "cell_type": "code",
      "source": [
        "#(sortBykey)se tiene un conjunto de datos que registra las ventas de varios productos en una tienda, y deseas ordenar esos productos por el total de ventas."
      ],
      "metadata": {
        "id": "kZQ0ao6WgIm2"
      },
      "execution_count": null,
      "outputs": []
    },
    {
      "cell_type": "code",
      "source": [
        "# La lista de ventas (producto, total_ventas)\n",
        "ventas = [\n",
        "    (\"Manzanas\", 200),\n",
        "    (\"Naranjas\", 150),\n",
        "    (\"Plátanos\", 300),\n",
        "    (\"Peras\", 100),\n",
        "    (\"Kiwi\", 400)\n",
        "]\n"
      ],
      "metadata": {
        "id": "l9rn8EBsjDWZ"
      },
      "execution_count": 3,
      "outputs": []
    },
    {
      "cell_type": "code",
      "source": [
        "# se crea un RDD a partir de la lista de ventas\n",
        "rdd_ventas = sc.parallelize(ventas)"
      ],
      "metadata": {
        "id": "g79Zf_DbjHnw"
      },
      "execution_count": 4,
      "outputs": []
    },
    {
      "cell_type": "code",
      "source": [
        "# se usa sortByKey para ordenar por nombre de producto\n",
        "resultado_ordenado = rdd_ventas.sortByKey()"
      ],
      "metadata": {
        "id": "OuPEdwp-jK4P"
      },
      "execution_count": 5,
      "outputs": []
    },
    {
      "cell_type": "code",
      "source": [
        "resultado_ordenado.collect()"
      ],
      "metadata": {
        "colab": {
          "base_uri": "https://localhost:8080/"
        },
        "id": "g2sIWIpljPIH",
        "outputId": "a7afbbe8-0c0d-4983-cc42-2b91705eff78"
      },
      "execution_count": 7,
      "outputs": [
        {
          "output_type": "execute_result",
          "data": {
            "text/plain": [
              "[('Kiwi', 400),\n",
              " ('Manzanas', 200),\n",
              " ('Naranjas', 150),\n",
              " ('Peras', 100),\n",
              " ('Plátanos', 300)]"
            ]
          },
          "metadata": {},
          "execution_count": 7
        }
      ]
    }
  ]
}