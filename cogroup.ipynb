{
  "nbformat": 4,
  "nbformat_minor": 0,
  "metadata": {
    "colab": {
      "provenance": []
    },
    "kernelspec": {
      "name": "python3",
      "display_name": "Python 3"
    },
    "language_info": {
      "name": "python"
    }
  },
  "cells": [
    {
      "cell_type": "code",
      "source": [
        "import pyspark\n",
        "from pyspark.sql import SparkSession\n",
        "from pyspark.sql.functions import col, expr"
      ],
      "metadata": {
        "id": "_nQhUMmlQosr"
      },
      "execution_count": 13,
      "outputs": []
    },
    {
      "cell_type": "code",
      "source": [
        "spark = SparkSession.builder.appName(\"Spark Ejemplo\").master(\"local\").getOrCreate()\n",
        "spark"
      ],
      "metadata": {
        "colab": {
          "base_uri": "https://localhost:8080/",
          "height": 219
        },
        "id": "TxzPCENiQqPE",
        "outputId": "6d9302ae-889f-4e00-b024-fe3d6bc43815"
      },
      "execution_count": 14,
      "outputs": [
        {
          "output_type": "execute_result",
          "data": {
            "text/plain": [
              "<pyspark.sql.session.SparkSession at 0x7b428c1df130>"
            ],
            "text/html": [
              "\n",
              "            <div>\n",
              "                <p><b>SparkSession - in-memory</b></p>\n",
              "                \n",
              "        <div>\n",
              "            <p><b>SparkContext</b></p>\n",
              "\n",
              "            <p><a href=\"http://3d111a564e7f:4040\">Spark UI</a></p>\n",
              "\n",
              "            <dl>\n",
              "              <dt>Version</dt>\n",
              "                <dd><code>v3.5.3</code></dd>\n",
              "              <dt>Master</dt>\n",
              "                <dd><code>local</code></dd>\n",
              "              <dt>AppName</dt>\n",
              "                <dd><code>test</code></dd>\n",
              "            </dl>\n",
              "        </div>\n",
              "        \n",
              "            </div>\n",
              "        "
            ]
          },
          "metadata": {},
          "execution_count": 14
        }
      ]
    },
    {
      "cell_type": "code",
      "source": [
        "bd = spark.read.csv('/ejemplo.csv', header=True, sep=',', inferSchema=True)\n",
        "bd.show()\n"
      ],
      "metadata": {
        "colab": {
          "base_uri": "https://localhost:8080/"
        },
        "id": "wdo2hvnqTZly",
        "outputId": "19361a13-4816-4011-8c3b-5200576ff691"
      },
      "execution_count": 20,
      "outputs": [
        {
          "output_type": "stream",
          "name": "stdout",
          "text": [
            "+----------+------------+-------------------+--------------+---------+\n",
            "|Factory_ID|Factory_Name|   Production_Month|Units_Produced| Location|\n",
            "+----------+------------+-------------------+--------------+---------+\n",
            "|         1|   Fábrica A|2023-01-01 00:00:00|          5000|   Madrid|\n",
            "|         2|   Fábrica B|2023-01-01 00:00:00|          7000|Barcelona|\n",
            "|         1|   Fábrica A|2023-02-01 00:00:00|          6000|   Madrid|\n",
            "|         2|   Fábrica B|2023-02-01 00:00:00|          8000|Barcelona|\n",
            "|         3|   Fábrica C|2023-01-01 00:00:00|          3000| Valencia|\n",
            "|         3|   Fábrica C|2023-02-01 00:00:00|          3500| Valencia|\n",
            "+----------+------------+-------------------+--------------+---------+\n",
            "\n"
          ]
        }
      ]
    },
    {
      "cell_type": "code",
      "source": [
        "\n",
        "\n",
        "\n",
        "ventas = sc.parallelize([\n",
        "    (\"producto_1\", 100),\n",
        "    (\"producto_2\", 150),\n",
        "    (\"producto_1\", 200)\n",
        "])\n",
        "\n",
        "\n",
        "costos = sc.parallelize([\n",
        "    (\"producto_1\", 80),\n",
        "    (\"producto_2\", 90),\n",
        "    (\"producto_1\", 70)\n",
        "])\n"
      ],
      "metadata": {
        "id": "s8YtWMw1cKAK"
      },
      "execution_count": 34,
      "outputs": []
    },
    {
      "cell_type": "code",
      "source": [
        "# Aplicar cogroup\n",
        "cogrouped = ventas.cogroup(costos)\n",
        "\n",
        "# Mostrar resultados\n",
        "for producto, (ventas_group, costos_group) in cogrouped.collect():\n",
        "    print(f\"{producto}: Ventas = {list(ventas_group)}, Costos = {list(costos_group)}\")\n"
      ],
      "metadata": {
        "colab": {
          "base_uri": "https://localhost:8080/"
        },
        "id": "w7PHckwWcNsj",
        "outputId": "2391ae2d-4de3-4691-d478-422a908db4a2"
      },
      "execution_count": 32,
      "outputs": [
        {
          "output_type": "stream",
          "name": "stdout",
          "text": [
            "producto_1: Ventas = [100, 200], Costos = [80, 70]\n",
            "producto_2: Ventas = [150], Costos = [90]\n"
          ]
        }
      ]
    }
  ]
}