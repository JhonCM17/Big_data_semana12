{
  "nbformat": 4,
  "nbformat_minor": 0,
  "metadata": {
    "colab": {
      "provenance": []
    },
    "kernelspec": {
      "name": "python3",
      "display_name": "Python 3"
    },
    "language_info": {
      "name": "python"
    }
  },
  "cells": [
    {
      "cell_type": "code",
      "execution_count": null,
      "metadata": {
        "id": "RjmDODBbNNVe"
      },
      "outputs": [],
      "source": [
        "from pyspark.context import SparkContext"
      ]
    },
    {
      "cell_type": "code",
      "source": [
        "sc = SparkContext('local', 'test')"
      ],
      "metadata": {
        "id": "uFZSYXSXNU8X"
      },
      "execution_count": null,
      "outputs": []
    },
    {
      "cell_type": "code",
      "source": [
        "var = sc.parallelize([\"b\", \"a\", \"c\"])"
      ],
      "metadata": {
        "id": "g7ab32y6OLAG"
      },
      "execution_count": null,
      "outputs": []
    },
    {
      "cell_type": "code",
      "source": [
        "var.map(lambda x: (x, 1)).collect()"
      ],
      "metadata": {
        "colab": {
          "base_uri": "https://localhost:8080/"
        },
        "id": "O8ux2vSTOTLf",
        "outputId": "b988d3de-648f-4b66-8c5c-7667f2031bc1"
      },
      "execution_count": null,
      "outputs": [
        {
          "output_type": "execute_result",
          "data": {
            "text/plain": [
              "[('b', 1), ('a', 1), ('c', 1)]"
            ]
          },
          "metadata": {},
          "execution_count": 4
        }
      ]
    },
    {
      "cell_type": "code",
      "source": [
        "var_context = var.map(lambda x: (x, 1))"
      ],
      "metadata": {
        "id": "a3RCs6AgOxgX"
      },
      "execution_count": null,
      "outputs": []
    },
    {
      "cell_type": "code",
      "source": [
        "var_context.collect()"
      ],
      "metadata": {
        "colab": {
          "base_uri": "https://localhost:8080/"
        },
        "id": "8cYZqLiYO5bI",
        "outputId": "91207209-0794-4bc6-b4f6-8dd40f917f39"
      },
      "execution_count": null,
      "outputs": [
        {
          "output_type": "execute_result",
          "data": {
            "text/plain": [
              "[('b', 1), ('a', 1), ('c', 1)]"
            ]
          },
          "metadata": {},
          "execution_count": 6
        }
      ]
    },
    {
      "cell_type": "code",
      "source": [
        "rdd_1 = sc.parallelize([1, 1, 2, 3])"
      ],
      "metadata": {
        "id": "wxFr6to8PSU_"
      },
      "execution_count": null,
      "outputs": []
    },
    {
      "cell_type": "code",
      "source": [
        "rdd_2 = sc.parallelize([6, 7, 8, 9])"
      ],
      "metadata": {
        "id": "PzUYy1s1PYu_"
      },
      "execution_count": null,
      "outputs": []
    },
    {
      "cell_type": "code",
      "source": [
        "var_general = rdd_1.union(rdd_2)"
      ],
      "metadata": {
        "id": "HXfKjRqcPf9A"
      },
      "execution_count": null,
      "outputs": []
    },
    {
      "cell_type": "code",
      "source": [
        "var_general.collect()"
      ],
      "metadata": {
        "colab": {
          "base_uri": "https://localhost:8080/"
        },
        "id": "26qtKWGhPjQH",
        "outputId": "59ed216b-7a7f-450b-87a6-15e776e525f8"
      },
      "execution_count": null,
      "outputs": [
        {
          "output_type": "execute_result",
          "data": {
            "text/plain": [
              "[1, 1, 2, 3, 6, 7, 8, 9]"
            ]
          },
          "metadata": {},
          "execution_count": 10
        }
      ]
    },
    {
      "cell_type": "code",
      "source": [
        "rdd_1.union(rdd_1).collect()"
      ],
      "metadata": {
        "colab": {
          "base_uri": "https://localhost:8080/"
        },
        "id": "1PlvIRBvPwIH",
        "outputId": "1cc1373b-1205-475b-e644-bf40ea68178a"
      },
      "execution_count": null,
      "outputs": [
        {
          "output_type": "execute_result",
          "data": {
            "text/plain": [
              "[1, 1, 2, 3, 1, 1, 2, 3]"
            ]
          },
          "metadata": {},
          "execution_count": 11
        }
      ]
    },
    {
      "cell_type": "markdown",
      "source": [
        "Ejemplo Usando .reduce en un contexto de conteo de clics en un sitio web"
      ],
      "metadata": {
        "id": "P3MAt0TdWThn"
      }
    },
    {
      "cell_type": "code",
      "source": [
        "from operator import add"
      ],
      "metadata": {
        "id": "3VKr9cVtWCdH"
      },
      "execution_count": null,
      "outputs": []
    },
    {
      "cell_type": "code",
      "source": [
        "# Sumar los clics de diferentes usuarios en un sitio web\n",
        "clics_por_usuario = sc.parallelize([10, 20, 30, 40, 50]).reduce(add)\n",
        "print(f\"Total de clics por usuarios: {clics_por_usuario}\")"
      ],
      "metadata": {
        "colab": {
          "base_uri": "https://localhost:8080/"
        },
        "id": "ylJMU1TpWFoh",
        "outputId": "5a90c486-4e75-4cab-809e-2f199669dc74"
      },
      "execution_count": null,
      "outputs": [
        {
          "output_type": "stream",
          "name": "stdout",
          "text": [
            "Total de clics por usuarios: 150\n"
          ]
        }
      ]
    },
    {
      "cell_type": "code",
      "source": [
        "# Generar un RDD con un conteo constante de clics\n",
        "clics_constantes = sc.parallelize((5 for _ in range(10))).map(lambda x: 1).cache().reduce(add)\n",
        "print(f\"Total de clics constantes: {clics_constantes}\")"
      ],
      "metadata": {
        "colab": {
          "base_uri": "https://localhost:8080/"
        },
        "id": "83utIOnLWLYP",
        "outputId": "6f9e3f8b-9583-42ea-d0f3-f33ef972a1aa"
      },
      "execution_count": null,
      "outputs": [
        {
          "output_type": "stream",
          "name": "stdout",
          "text": [
            "Total de clics constantes: 10\n"
          ]
        }
      ]
    },
    {
      "cell_type": "code",
      "source": [
        "# Intentar reducir un RDD vacío\n",
        "clics_vacios = sc.parallelize([])\n",
        "try:\n",
        "    total_clics_vacios = clics_vacios.reduce(add)\n",
        "except ValueError as e:\n",
        "    print(f\"Error: {e}\")  # Manejo del error al intentar reducir un RDD vacío"
      ],
      "metadata": {
        "colab": {
          "base_uri": "https://localhost:8080/"
        },
        "id": "meXpEy4mWONR",
        "outputId": "afc42ee9-ad25-4eb2-c3b6-c5297994e0e8"
      },
      "execution_count": null,
      "outputs": [
        {
          "output_type": "stream",
          "name": "stdout",
          "text": [
            "Error: Can not reduce() empty RDD\n"
          ]
        }
      ]
    }
  ]
}