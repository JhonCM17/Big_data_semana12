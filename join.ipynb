{
  "nbformat": 4,
  "nbformat_minor": 0,
  "metadata": {
    "colab": {
      "provenance": []
    },
    "kernelspec": {
      "name": "python3",
      "display_name": "Python 3"
    },
    "language_info": {
      "name": "python"
    }
  },
  "cells": [
    {
      "cell_type": "code",
      "execution_count": 1,
      "metadata": {
        "id": "zGN69gyKgiil"
      },
      "outputs": [],
      "source": [
        "from pyspark.context import SparkContext"
      ]
    },
    {
      "cell_type": "code",
      "source": [
        "sc = SparkContext('local', 'test')"
      ],
      "metadata": {
        "id": "7BxjsFgAgmbC"
      },
      "execution_count": 2,
      "outputs": []
    },
    {
      "cell_type": "code",
      "source": [
        "#(join) se tiene dos lista de datos, uno donde se muestra el nombre del empleado junto con el numero del departamento y otro donde se muestra la informacion del departamento"
      ],
      "metadata": {
        "id": "9VXVaf4yh9cn"
      },
      "execution_count": null,
      "outputs": []
    },
    {
      "cell_type": "code",
      "source": [
        "# RDD con empleados (ID_empleado, (nombre_empleado, ID_departamento))\n",
        "empleados = [\n",
        "    (1, (\"Ana\", 101)),\n",
        "    (2, (\"Luis\", 102)),\n",
        "    (3, (\"Carlos\", 101)),\n",
        "    (4, (\"María\", 103))\n",
        "]"
      ],
      "metadata": {
        "id": "tNkp7bDPiRMv"
      },
      "execution_count": 3,
      "outputs": []
    },
    {
      "cell_type": "code",
      "source": [
        "\n",
        "# RDD con departamentos (ID_departamento, nombre_departamento)\n",
        "departamentos = [\n",
        "    (101, \"Ventas\"),\n",
        "    (102, \"Marketing\"),\n",
        "    (103, \"Finanzas\"),\n",
        "    (104, \"Recursos Humanos\")\n",
        "]"
      ],
      "metadata": {
        "id": "d00O0axtiT9H"
      },
      "execution_count": 4,
      "outputs": []
    },
    {
      "cell_type": "code",
      "source": [
        "# se crea RDDs a partir de las listas\n",
        "rdd_empleados = sc.parallelize(empleados)\n",
        "rdd_departamentos = sc.parallelize(departamentos)"
      ],
      "metadata": {
        "id": "u4ZzhfQjiXWg"
      },
      "execution_count": 5,
      "outputs": []
    },
    {
      "cell_type": "code",
      "source": [
        "# se usa el  join para combinar los RDDs\n",
        "# primero, cambiamos la estructura del RDD de empleados a (ID_departamento, (ID_empleado, nombre_empleado))\n",
        "rdd_empleados_departamento = rdd_empleados.map(lambda x: (x[1][1], (x[0], x[1][0])))\n",
        "\n",
        "resultado_join = rdd_empleados_departamento.join(rdd_departamentos)"
      ],
      "metadata": {
        "id": "b0qCTAOlibYn"
      },
      "execution_count": 6,
      "outputs": []
    },
    {
      "cell_type": "code",
      "source": [
        "resultado_join.collect()"
      ],
      "metadata": {
        "colab": {
          "base_uri": "https://localhost:8080/"
        },
        "id": "tROadp8JilMZ",
        "outputId": "00d4960a-25d0-41e0-a419-7ea2b85aa3ca"
      },
      "execution_count": 7,
      "outputs": [
        {
          "output_type": "execute_result",
          "data": {
            "text/plain": [
              "[(102, ((2, 'Luis'), 'Marketing')),\n",
              " (101, ((1, 'Ana'), 'Ventas')),\n",
              " (101, ((3, 'Carlos'), 'Ventas')),\n",
              " (103, ((4, 'María'), 'Finanzas'))]"
            ]
          },
          "metadata": {},
          "execution_count": 7
        }
      ]
    }
  ]
}