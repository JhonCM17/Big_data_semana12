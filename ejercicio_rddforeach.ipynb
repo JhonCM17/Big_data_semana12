{
  "cells": [
    {
      "cell_type": "code",
      "execution_count": 84,
      "metadata": {
        "colab": {
          "base_uri": "https://localhost:8080/"
        },
        "id": "7eyyrnOjXNLz",
        "outputId": "442ce51b-5063-4776-8f26-44cf15fc1383"
      },
      "outputs": [
        {
          "name": "stdout",
          "output_type": "stream",
          "text": [
            "1\n",
            "2\n",
            "3\n",
            "4\n",
            "5\n"
          ]
        }
      ],
      "source": [
        "from pyspark.sql import SparkSession\n",
        "import os\n",
        "\n",
        "# Crear una sesión de Spark\n",
        "spark = SparkSession.builder \\\n",
        "    .appName(\"EjemploRDD.jim\") \\\n",
        "    .getOrCreate()\n",
        "\n",
        "# Crear un RDD a partir de una lista de números\n",
        "data = [1, 2, 3, 4, 5]\n",
        "rdd = spark.sparkContext.parallelize(data)\n",
        "\n",
        "# Recoger todos los elementos del RDD y luego imprimirlos\n",
        "elements = rdd.collect()  # Recoge los elementos al driver\n",
        "for el in elements:#funcion con nombre \"el\" en los \"element\"\n",
        "    print(el)  # Imprimir cada elemento"
      ]
    }
  ],
  "metadata": {
    "colab": {
      "provenance": []
    },
    "kernelspec": {
      "display_name": "Python 3",
      "name": "python3"
    },
    "language_info": {
      "name": "python"
    }
  },
  "nbformat": 4,
  "nbformat_minor": 0
}
