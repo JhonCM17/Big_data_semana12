{
  "cells": [
    {
      "cell_type": "code",
      "execution_count": 85,
      "metadata": {
        "colab": {
          "base_uri": "https://localhost:8080/"
        },
        "id": "7eyyrnOjXNLz",
        "outputId": "9c43ba10-8838-445c-f439-7bf9b844f430"
      },
      "outputs": [
        {
          "data": {
            "text/plain": [
              "[('banana', 2), ('manzana', 2), ('naranja', 1)]"
            ]
          },
          "execution_count": 85,
          "metadata": {},
          "output_type": "execute_result"
        }
      ],
      "source": [
        "from pyspark.sql import SparkSession\n",
        "import os\n",
        "\n",
        "# Crear una sesión de Spark\n",
        "spark = SparkSession.builder \\\n",
        "    .appName(\"EjemploRDD.jim\") \\\n",
        "    .getOrCreate()\n",
        "\n",
        "# Crear un RDD de pares clave-valor\n",
        "data = [(\"manzana\", 1), (\"banana\", 1), (\"naranja\", 1), (\"manzana\", 1), (\"banana\", 1)]\n",
        "rdd = spark.sparkContext.parallelize(data)\n",
        "\n",
        "# Contar las ocurrencias por clave\n",
        "#sorted para ordenar y items  mostrar elementos de la funcion countbykey\n",
        "sorted(rdd.countByKey().items())"
      ]
    }
  ],
  "metadata": {
    "colab": {
      "provenance": []
    },
    "kernelspec": {
      "display_name": "Python 3",
      "name": "python3"
    },
    "language_info": {
      "name": "python"
    }
  },
  "nbformat": 4,
  "nbformat_minor": 0
}
