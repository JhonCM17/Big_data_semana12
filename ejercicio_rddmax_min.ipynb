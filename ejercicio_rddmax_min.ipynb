{
  "cells": [
    {
      "cell_type": "code",
      "execution_count": 86,
      "metadata": {
        "colab": {
          "base_uri": "https://localhost:8080/"
        },
        "id": "7eyyrnOjXNLz",
        "outputId": "191dadb1-6781-418d-bb76-cf58ee77f72e"
      },
      "outputs": [
        {
          "name": "stdout",
          "output_type": "stream",
          "text": [
            "El valor mínimo en el RDD es: 99\n"
          ]
        }
      ],
      "source": [
        "from pyspark.sql import SparkSession\n",
        "import os\n",
        "\n",
        "# Crear una sesión de Spark\n",
        "spark = SparkSession.builder \\\n",
        "    .appName(\"EjemploRDD.Sparcktextasfile\") \\\n",
        "    .getOrCreate()\n",
        "\n",
        "# Crear un RDD a partir de una lista\n",
        "data = [5, 3, 8, 1, 2, 7,44,22,77,99,1]\n",
        "rdd = spark.sparkContext.parallelize(data)\n",
        "\n",
        "# Encontrar el valor maximo en el RDD\n",
        "min_value = rdd.max()\n",
        "print(f\"El valor mínimo en el RDD es: {min_value}\")"
      ]
    },
    {
      "cell_type": "code",
      "execution_count": 87,
      "metadata": {
        "colab": {
          "base_uri": "https://localhost:8080/"
        },
        "id": "1AijohTBR84o",
        "outputId": "41c95c9f-9ab7-48fb-9305-bfb9c1a0ae6a"
      },
      "outputs": [
        {
          "name": "stdout",
          "output_type": "stream",
          "text": [
            "El valor mínimo en el RDD es: 1\n"
          ]
        }
      ],
      "source": [
        "# Encontrar el valor maximo en el RDD\n",
        "min_value = rdd.min()\n",
        "print(f\"El valor mínimo en el RDD es: {min_value}\")"
      ]
    }
  ],
  "metadata": {
    "colab": {
      "provenance": []
    },
    "kernelspec": {
      "display_name": "Python 3",
      "name": "python3"
    },
    "language_info": {
      "name": "python"
    }
  },
  "nbformat": 4,
  "nbformat_minor": 0
}
