{
  "nbformat": 4,
  "nbformat_minor": 0,
  "metadata": {
    "colab": {
      "provenance": []
    },
    "kernelspec": {
      "name": "python3",
      "display_name": "Python 3"
    },
    "language_info": {
      "name": "python"
    }
  },
  "cells": [
    {
      "cell_type": "code",
      "execution_count": null,
      "metadata": {
        "id": "7ppvkpX2fCT6"
      },
      "outputs": [],
      "source": [
        "from pyspark.context import SparkContext"
      ]
    },
    {
      "cell_type": "code",
      "source": [
        "sc = SparkContext('local', 'test')"
      ],
      "metadata": {
        "id": "fBXjwUZUfNpw"
      },
      "execution_count": null,
      "outputs": []
    },
    {
      "cell_type": "markdown",
      "source": [
        "Ejemplo utilizando .take() en un contexto de una lista de empleadaos con sus salarios."
      ],
      "metadata": {
        "id": "G3XPXaHvgdl2"
      }
    },
    {
      "cell_type": "code",
      "source": [
        "# Crear un RDD con los salarios de los empleados\n",
        "salarios = sc.parallelize([5000, 6000, 7500, 8500, 9000]).cache()"
      ],
      "metadata": {
        "id": "GkZBWrewgn32"
      },
      "execution_count": null,
      "outputs": []
    },
    {
      "cell_type": "code",
      "source": [
        "# Tomar los primeros 2 salarios\n",
        "primeros_salarios = salarios.take(2)\n",
        "print(f\"Los primeros 2 salarios son: {primeros_salarios}\")"
      ],
      "metadata": {
        "colab": {
          "base_uri": "https://localhost:8080/"
        },
        "id": "hHeqRFn9guS2",
        "outputId": "4a404b48-e859-4cea-8075-11314c435742"
      },
      "execution_count": null,
      "outputs": [
        {
          "output_type": "stream",
          "name": "stdout",
          "text": [
            "Los primeros 2 salarios son: [5000, 6000]\n"
          ]
        }
      ]
    },
    {
      "cell_type": "code",
      "source": [
        "# Intentar tomar 10 salarios de un RDD que solo tiene 5\n",
        "salarios_limitados = sc.parallelize([5000, 6000, 7500, 8500, 9000])\n",
        "salarios_tomados = salarios_limitados.take(10)\n",
        "print(f\"Intento de tomar 10 salarios (máximo disponible): {salarios_tomados}\")"
      ],
      "metadata": {
        "colab": {
          "base_uri": "https://localhost:8080/"
        },
        "id": "CXDA8xHXgxMG",
        "outputId": "74783daf-ec08-40a2-f8e5-30cb128d71e0"
      },
      "execution_count": null,
      "outputs": [
        {
          "output_type": "stream",
          "name": "stdout",
          "text": [
            "Intento de tomar 10 salarios (máximo disponible): [5000, 6000, 7500, 8500, 9000]\n"
          ]
        }
      ]
    },
    {
      "cell_type": "code",
      "source": [
        "# Crear un RDD con un rango de salarios y filtrar\n",
        "salarios_rango = sc.parallelize(range(10000), 100)\n",
        "salarios_filtrados = salarios_rango.filter(lambda x: x > 9500).take(3)\n",
        "print(f\"Tres salarios mayores a 95000: {salarios_filtrados}\")"
      ],
      "metadata": {
        "colab": {
          "base_uri": "https://localhost:8080/"
        },
        "id": "oEFjdq87g32O",
        "outputId": "697b3efb-3f46-4250-f3a5-c03c267bc895"
      },
      "execution_count": null,
      "outputs": [
        {
          "output_type": "stream",
          "name": "stdout",
          "text": [
            "Tres salarios mayores a 95000: [9501, 9502, 9503]\n"
          ]
        }
      ]
    },
    {
      "cell_type": "markdown",
      "source": [
        "1: Usamos sc.parallelize para crear un RDD con los salarios de algunos empleados y lo cacheamos para optimizar el acceso.\n",
        "\n",
        "2: Usamos take(2) para obtener los primeros 2 salarios y los mostramos.\n",
        "\n",
        "3: Intentamos usar take(10) en un RDD que solo tiene 5 elementos, mostrando que devuelve todos los elementos disponibles.\n",
        "\n",
        "4: Creamos un RDD con un rango de salarios y filtramos aquellos mayores a 9500, tomando los primeros 3 resultados."
      ],
      "metadata": {
        "id": "LOGvt7Q4hh6w"
      }
    }
  ]
}