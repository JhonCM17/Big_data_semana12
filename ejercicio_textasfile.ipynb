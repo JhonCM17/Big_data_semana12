{
  "cells": [
    {
      "cell_type": "code",
      "execution_count": 89,
      "metadata": {
        "id": "7eyyrnOjXNLz"
      },
      "outputs": [],
      "source": [
        "\n",
        "from pyspark.sql import SparkSession\n",
        "import os\n",
        "\n",
        "# Crear una sesión de Spark\n",
        "spark = SparkSession.builder \\\n",
        "    .appName(\"EjemploRDD.Sparcktextasfile\") \\\n",
        "    .getOrCreate()\n",
        "\n",
        "# Crear un RDD a partir de una lista\n",
        "data = [\"Hola\", \"holo\", \"hole\", \"holu\"]\n",
        "rdd = spark.sparkContext.parallelize(data)\n",
        "\n",
        "# Guardar el RDD como un archivo de texto\n",
        "rdd.saveAsTextFile(\"/content/ejemplodeTextasfilem\")"
      ]
    }
  ],
  "metadata": {
    "colab": {
      "provenance": []
    },
    "kernelspec": {
      "display_name": "Python 3",
      "name": "python3"
    },
    "language_info": {
      "name": "python"
    }
  },
  "nbformat": 4,
  "nbformat_minor": 0
}
