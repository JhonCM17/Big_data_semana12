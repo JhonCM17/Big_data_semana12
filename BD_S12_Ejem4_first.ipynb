{
  "nbformat": 4,
  "nbformat_minor": 0,
  "metadata": {
    "colab": {
      "provenance": []
    },
    "kernelspec": {
      "name": "python3",
      "display_name": "Python 3"
    },
    "language_info": {
      "name": "python"
    }
  },
  "cells": [
    {
      "cell_type": "code",
      "execution_count": null,
      "metadata": {
        "id": "Vz10wBP_dOxD"
      },
      "outputs": [],
      "source": [
        "from pyspark.context import SparkContext"
      ]
    },
    {
      "cell_type": "code",
      "source": [
        "sc = SparkContext('local', 'test')"
      ],
      "metadata": {
        "id": "5rs3LSI0djDI"
      },
      "execution_count": null,
      "outputs": []
    },
    {
      "cell_type": "markdown",
      "source": [
        "ejemplos usando .first() en un contexto de obtener el primer precio de un RDD y probarlo en un RDD vacio"
      ],
      "metadata": {
        "id": "Rq13BQwneNKf"
      }
    },
    {
      "cell_type": "code",
      "source": [
        "# Crear un RDD con los precios de los productos\n",
        "precios = sc.parallelize([100, 200, 300])"
      ],
      "metadata": {
        "id": "jqNnITakeXhO"
      },
      "execution_count": null,
      "outputs": []
    },
    {
      "cell_type": "code",
      "source": [
        "# Obtener el primer precio\n",
        "primer_precio = precios.first()\n",
        "print(f\"El primer precio es: {primer_precio}\")"
      ],
      "metadata": {
        "colab": {
          "base_uri": "https://localhost:8080/"
        },
        "id": "8ETayzgBecuO",
        "outputId": "b100d12e-e47d-4eae-97e5-cd8d2b4f4cef"
      },
      "execution_count": null,
      "outputs": [
        {
          "output_type": "stream",
          "name": "stdout",
          "text": [
            "El primer precio es: 100\n"
          ]
        }
      ]
    },
    {
      "cell_type": "code",
      "source": [
        "# Crear un RDD vacío\n",
        "precios_vacios = sc.parallelize([])"
      ],
      "metadata": {
        "id": "AwqG9qsCefZu"
      },
      "execution_count": null,
      "outputs": []
    },
    {
      "cell_type": "code",
      "source": [
        "# Intentar obtener el primer precio de un RDD vacío\n",
        "try:\n",
        "    primer_precio_vacio = precios_vacios.first()\n",
        "except ValueError as e:\n",
        "    print(f\"Error: {e}\")  # Manejo del error al intentar obtener el primer elemento de un RDD vacío"
      ],
      "metadata": {
        "colab": {
          "base_uri": "https://localhost:8080/"
        },
        "id": "F5lhQJk9eu_X",
        "outputId": "5cae8c03-1251-4b43-e4b9-ef4eaae95548"
      },
      "execution_count": null,
      "outputs": [
        {
          "output_type": "stream",
          "name": "stdout",
          "text": [
            "Error: RDD is empty\n"
          ]
        }
      ]
    },
    {
      "cell_type": "markdown",
      "source": [
        "1: Usamos sc.parallelize para crear un RDD con precios de productos.\n",
        "\n",
        "2:  Usamos first() para obtener el primer precio del RDD.\n",
        "\n",
        "3: Creamos un RDD vacío y manejamos la excepción al intentar usar first() en él."
      ],
      "metadata": {
        "id": "AyEsYxwnezrn"
      }
    }
  ]
}