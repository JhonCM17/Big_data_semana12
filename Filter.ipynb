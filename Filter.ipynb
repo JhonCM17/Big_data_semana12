{
  "nbformat": 4,
  "nbformat_minor": 0,
  "metadata": {
    "colab": {
      "provenance": []
    },
    "kernelspec": {
      "name": "python3",
      "display_name": "Python 3"
    },
    "language_info": {
      "name": "python"
    }
  },
  "cells": [
    {
      "cell_type": "code",
      "execution_count": 1,
      "metadata": {
        "id": "OVGpjHo6gSLl"
      },
      "outputs": [],
      "source": [
        "import pyspark\n",
        "from pyspark.sql import SparkSession\n",
        "from pyspark.sql.functions import col, expr"
      ]
    },
    {
      "cell_type": "code",
      "source": [
        "spark = SparkSession.builder.appName(\"Spark Ejemplo\").master(\"local\").getOrCreate()\n",
        "spark"
      ],
      "metadata": {
        "colab": {
          "base_uri": "https://localhost:8080/",
          "height": 219
        },
        "id": "zOmLmbzkgTdr",
        "outputId": "a5158413-7b05-4e4f-cb49-53ebb3c3b2bf"
      },
      "execution_count": 2,
      "outputs": [
        {
          "output_type": "execute_result",
          "data": {
            "text/plain": [
              "<pyspark.sql.session.SparkSession at 0x7e7e342bf3d0>"
            ],
            "text/html": [
              "\n",
              "            <div>\n",
              "                <p><b>SparkSession - in-memory</b></p>\n",
              "                \n",
              "        <div>\n",
              "            <p><b>SparkContext</b></p>\n",
              "\n",
              "            <p><a href=\"http://07e1fcd09559:4040\">Spark UI</a></p>\n",
              "\n",
              "            <dl>\n",
              "              <dt>Version</dt>\n",
              "                <dd><code>v3.5.3</code></dd>\n",
              "              <dt>Master</dt>\n",
              "                <dd><code>local</code></dd>\n",
              "              <dt>AppName</dt>\n",
              "                <dd><code>Spark Ejemplo</code></dd>\n",
              "            </dl>\n",
              "        </div>\n",
              "        \n",
              "            </div>\n",
              "        "
            ]
          },
          "metadata": {},
          "execution_count": 2
        }
      ]
    },
    {
      "cell_type": "code",
      "source": [
        "bd = spark.read.csv('/ejemplo.csv', header=True, sep=',', inferSchema=True)\n",
        "bd.show()"
      ],
      "metadata": {
        "colab": {
          "base_uri": "https://localhost:8080/"
        },
        "id": "ouaDhryrgVLK",
        "outputId": "1184b109-1a16-46fb-f868-2623743f0070"
      },
      "execution_count": 4,
      "outputs": [
        {
          "output_type": "stream",
          "name": "stdout",
          "text": [
            "+----------+------------+-------------------+--------------+---------+\n",
            "|Factory_ID|Factory_Name|   Production_Month|Units_Produced| Location|\n",
            "+----------+------------+-------------------+--------------+---------+\n",
            "|         1|   Fábrica A|2023-01-01 00:00:00|          5000|   Madrid|\n",
            "|         2|   Fábrica B|2023-01-01 00:00:00|          7000|Barcelona|\n",
            "|         1|   Fábrica A|2023-02-01 00:00:00|          6000|   Madrid|\n",
            "|         2|   Fábrica B|2023-02-01 00:00:00|          8000|Barcelona|\n",
            "|         3|   Fábrica C|2023-01-01 00:00:00|          3000| Valencia|\n",
            "|         3|   Fábrica C|2023-02-01 00:00:00|          3500| Valencia|\n",
            "+----------+------------+-------------------+--------------+---------+\n",
            "\n"
          ]
        }
      ]
    },
    {
      "cell_type": "code",
      "source": [
        "fabrica_alta_produccion = bd.filter(col(\"Units_Produced\") > 6000)\n",
        "fabrica_alta_produccion.show()"
      ],
      "metadata": {
        "colab": {
          "base_uri": "https://localhost:8080/"
        },
        "id": "kOlRhJp0gYHz",
        "outputId": "40caeb5c-64b8-4a0e-9402-a40b2762888b"
      },
      "execution_count": 5,
      "outputs": [
        {
          "output_type": "stream",
          "name": "stdout",
          "text": [
            "+----------+------------+-------------------+--------------+---------+\n",
            "|Factory_ID|Factory_Name|   Production_Month|Units_Produced| Location|\n",
            "+----------+------------+-------------------+--------------+---------+\n",
            "|         2|   Fábrica B|2023-01-01 00:00:00|          7000|Barcelona|\n",
            "|         2|   Fábrica B|2023-02-01 00:00:00|          8000|Barcelona|\n",
            "+----------+------------+-------------------+--------------+---------+\n",
            "\n"
          ]
        }
      ]
    }
  ]
}